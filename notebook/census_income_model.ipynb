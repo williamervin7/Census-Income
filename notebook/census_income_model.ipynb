{
  "metadata": {
    "kernelspec": {
      "language": "python",
      "display_name": "Python 3",
      "name": "python3"
    },
    "language_info": {
      "name": "python",
      "version": "3.11.11",
      "mimetype": "text/x-python",
      "codemirror_mode": {
        "name": "ipython",
        "version": 3
      },
      "pygments_lexer": "ipython3",
      "nbconvert_exporter": "python",
      "file_extension": ".py"
    },
    "kaggle": {
      "accelerator": "none",
      "dataSources": [
        {
          "sourceId": 244361775,
          "sourceType": "kernelVersion"
        }
      ],
      "dockerImageVersionId": 31040,
      "isInternetEnabled": true,
      "language": "python",
      "sourceType": "notebook",
      "isGpuEnabled": false
    },
    "colab": {
      "provenance": []
    }
  },
  "nbformat_minor": 0,
  "nbformat": 4,
  "cells": [
    {
      "cell_type": "markdown",
      "source": [
        "# 📘 Introduction\n",
        "This notebook is focused on building a classification model to predict income level. We know from earlier exploration that there's a class imbalance, with most people earning <=50K, so we’ll take that into account during modeling.\n",
        "\n",
        "To handle the imbalance, we’ll consider:\n",
        "\n",
        "* Using class_weight with Logistic Regression\n",
        "\n",
        "We’ll also introduce a new feature:\n",
        "\n",
        "* `net_capital`, which combines `capital_gain` and `capital_loss`\n",
        "\n",
        "The following columns will not be included in the model due to redundancy or low correlation:\n",
        "\n",
        "* `education` (since we’re using education_num)\n",
        "\n",
        "* `relationship` (closely tied to marital_status)\n",
        "\n",
        "* `fnlwgt` (low correlation with income)\n",
        "\n",
        "For preprocessing, we’ll use `StandardScaler()` to normalize numerical features.\n",
        "\n",
        "Initial models to explore:\n",
        "\n",
        "* Logistic Regression and LightGBM (with class_weight)\n",
        "\n",
        "* Ensemble models such as Random Forest, Gradient Boosting, and XGBoost — all of which can handle class imbalance well.\n",
        "\n",
        "Use metrics like precision/recall or ROC-AUC which is important for imbalanced datasets\n"
      ],
      "metadata": {
        "id": "X0odiPAga3sD"
      }
    },
    {
      "cell_type": "code",
      "source": [
        "\n",
        "import numpy as np # linear algebra\n",
        "import pandas as pd # data processing, CSV file I/O (e.g. pd.read_csv)\n",
        "import warnings\n",
        "warnings.filterwarnings(\"ignore\", category=FutureWarning, message=\".*force_all_finite.*\")\n",
        "\n",
        "from google.colab import drive\n",
        "drive.mount('/content/drive')\n",
        "\n",
        "file_path = '/content/drive/MyDrive/Colab Notebooks/data/clean_adult_train.csv'\n",
        "file_path2 = '/content/drive/MyDrive/Colab Notebooks/data/clean_adult_test.csv'\n",
        "\n",
        "\n",
        "\n",
        "\n"
      ],
      "metadata": {
        "_uuid": "8f2839f25d086af736a60e9eeb907d3b93b6e0e5",
        "_cell_guid": "b1076dfc-b9ad-4769-8c92-a6c4dae69d19",
        "trusted": true,
        "execution": {
          "iopub.status.busy": "2025-06-09T19:51:47.993180Z",
          "iopub.execute_input": "2025-06-09T19:51:47.993836Z",
          "iopub.status.idle": "2025-06-09T19:51:48.336349Z",
          "shell.execute_reply.started": "2025-06-09T19:51:47.993810Z",
          "shell.execute_reply": "2025-06-09T19:51:48.335563Z"
        },
        "id": "kVafrGMLa3sG",
        "colab": {
          "base_uri": "https://localhost:8080/"
        },
        "outputId": "94f35a08-952d-4644-92b9-8cc2525c5323"
      },
      "outputs": [
        {
          "output_type": "stream",
          "name": "stdout",
          "text": [
            "Mounted at /content/drive\n"
          ]
        }
      ],
      "execution_count": null
    },
    {
      "cell_type": "code",
      "source": [
        "train = pd.read_csv(file_path)\n",
        "test = pd.read_csv(file_path2)"
      ],
      "metadata": {
        "trusted": true,
        "execution": {
          "iopub.status.busy": "2025-06-09T19:51:48.337634Z",
          "iopub.execute_input": "2025-06-09T19:51:48.338018Z",
          "iopub.status.idle": "2025-06-09T19:51:48.549369Z",
          "shell.execute_reply.started": "2025-06-09T19:51:48.337995Z",
          "shell.execute_reply": "2025-06-09T19:51:48.548666Z"
        },
        "id": "ovUu-qpma3sJ"
      },
      "outputs": [],
      "execution_count": null
    },
    {
      "cell_type": "code",
      "source": [
        "X = train.drop('income', axis = 1)\n",
        "y = train['income']\n",
        "y = y.map({'<=50K':0,'>50K':1})\n",
        "y.dtypes"
      ],
      "metadata": {
        "trusted": true,
        "execution": {
          "iopub.status.busy": "2025-06-09T19:51:48.550117Z",
          "iopub.execute_input": "2025-06-09T19:51:48.550354Z",
          "iopub.status.idle": "2025-06-09T19:51:48.572586Z",
          "shell.execute_reply.started": "2025-06-09T19:51:48.550335Z",
          "shell.execute_reply": "2025-06-09T19:51:48.571828Z"
        },
        "colab": {
          "base_uri": "https://localhost:8080/"
        },
        "id": "ju1AbyTxa3sK",
        "outputId": "65ca26e3-aad1-4b22-87c8-250bb8520f01"
      },
      "outputs": [
        {
          "output_type": "execute_result",
          "data": {
            "text/plain": [
              "dtype('int64')"
            ]
          },
          "metadata": {},
          "execution_count": 3
        }
      ],
      "execution_count": null
    },
    {
      "cell_type": "markdown",
      "source": [
        "# Pipeline"
      ],
      "metadata": {
        "id": "tYs0ZYH5a3sL"
      }
    },
    {
      "cell_type": "code",
      "source": [
        "from sklearn.compose import ColumnTransformer\n",
        "from sklearn.impute import SimpleImputer\n",
        "from sklearn.linear_model import LogisticRegression\n",
        "from sklearn.pipeline import Pipeline, make_pipeline\n",
        "from sklearn.preprocessing import OneHotEncoder, StandardScaler\n",
        "from sklearn.ensemble import GradientBoostingClassifier, RandomForestClassifier\n",
        "from xgboost import XGBClassifier\n",
        "from lightgbm import LGBMClassifier\n",
        "from sklearn.model_selection import cross_val_score, cross_validate"
      ],
      "metadata": {
        "trusted": true,
        "execution": {
          "iopub.status.busy": "2025-06-09T19:51:48.574337Z",
          "iopub.execute_input": "2025-06-09T19:51:48.574569Z",
          "iopub.status.idle": "2025-06-09T19:51:55.681888Z",
          "shell.execute_reply.started": "2025-06-09T19:51:48.574549Z",
          "shell.execute_reply": "2025-06-09T19:51:55.681026Z"
        },
        "id": "ZiX8UyONa3sL"
      },
      "outputs": [],
      "execution_count": null
    },
    {
      "cell_type": "markdown",
      "source": [
        "Create a class that inherits from `BaseEstimator` and `ransromerMixin` and implements:\n",
        "* `fit(self, X, y=None)` —  returns self\n",
        "* `transform(self, X)` — modifies the DataFrame to add the net_capital column"
      ],
      "metadata": {
        "id": "x5_xJktDa3sL"
      }
    },
    {
      "cell_type": "code",
      "source": [
        "\n",
        "from sklearn.base import BaseEstimator, TransformerMixin\n",
        "\n",
        "class NetCapitalAdder(BaseEstimator, TransformerMixin):\n",
        "    def fit(self, X, y=None):\n",
        "        return self\n",
        "\n",
        "    def transform(self, X):\n",
        "        X = X.copy()\n",
        "        X['net_capital'] = X['capital_gain'] - X['capital_loss']\n",
        "        return X\n"
      ],
      "metadata": {
        "trusted": true,
        "execution": {
          "iopub.status.busy": "2025-06-09T19:51:55.682724Z",
          "iopub.execute_input": "2025-06-09T19:51:55.683318Z",
          "iopub.status.idle": "2025-06-09T19:51:55.688444Z",
          "shell.execute_reply.started": "2025-06-09T19:51:55.683292Z",
          "shell.execute_reply": "2025-06-09T19:51:55.687605Z"
        },
        "id": "fvO230lXa3sL"
      },
      "outputs": [],
      "execution_count": null
    },
    {
      "cell_type": "markdown",
      "source": [
        "## Create Pipeline\n",
        "In this step, we build the full preprocessing and modeling pipeline.\n",
        "- `StandardScaler()` is applied to numeric features to normalize their scale.\n",
        "- `OneHotEncoder()` is used for categorical (object) features to prepare them for modeling.\n",
        "- `NetCapitalAdder()` is a custom transformer that adds a new feature, net_capital, by combining capital_gain and capital_loss.\n",
        "\n",
        "This setup ensures all preprocessing and feature engineering is done within the pipeline, keeping the workflow clean and reproducible."
      ],
      "metadata": {
        "id": "BU7x9Cfza3sM"
      }
    },
    {
      "cell_type": "code",
      "source": [
        "# Define numeric and categorical preprocessors\n",
        "numeric_preprocessor = Pipeline(\n",
        "    steps = [(\"scaler\", StandardScaler())]\n",
        ")\n",
        "\n",
        "cat_preprocessor = Pipeline(\n",
        "    steps =[('onehot', OneHotEncoder())]\n",
        ")\n",
        "\n",
        "preprocessor = ColumnTransformer([\n",
        "    ('cat',cat_preprocessor,['workclass','marital_status','occupation','race','sex','native_country']),\n",
        "    ('num', numeric_preprocessor, ['age','education_num','capital_gain','capital_loss','hours_per_week','net_capital'])\n",
        "])\n",
        "\n",
        "# Wrap everything in a full pipeline\n",
        "full_pipeline = Pipeline(steps=[\n",
        "    ('add_net_capital', NetCapitalAdder()),   # Custom transformer goes here\n",
        "    ('preprocessor', preprocessor)            # Then column-specific transformations\n",
        "])"
      ],
      "metadata": {
        "trusted": true,
        "execution": {
          "iopub.status.busy": "2025-06-09T19:51:55.689379Z",
          "iopub.execute_input": "2025-06-09T19:51:55.689736Z",
          "iopub.status.idle": "2025-06-09T19:51:55.707135Z",
          "shell.execute_reply.started": "2025-06-09T19:51:55.689709Z",
          "shell.execute_reply": "2025-06-09T19:51:55.706306Z"
        },
        "id": "0WmBOL2aa3sM"
      },
      "outputs": [],
      "execution_count": null
    },
    {
      "cell_type": "markdown",
      "source": [
        "## Baseline models\n",
        "Since this is a binary classification problem with a mix of categorical and numerical features, and mild class imbalance. The following models were chosen to provide a balance between interpretability, performance, and robustness:\n",
        "\n",
        "**RandomForestClassifier**\n",
        "* A strong, non-parametric ensemble method that handles mixed data types well and is robust to outliers and irrelevant features. class_weight='balanced' helps address the income class imbalance.\n",
        "\n",
        "**GradientBoostingClassifier**\n",
        "* A powerful boosting algorithm that builds trees sequentially to reduce bias. It generally performs well on structured tabular data and can capture complex patterns.\n",
        "\n",
        "**XGBoostClassifier**\n",
        "* An optimized, regularized version of gradient boosting known for its speed and performance. It's well-suited for this kind of tabular classification problem and handles missing data natively.\n",
        "\n",
        "**LogisticRegression**\n",
        "* A simple, interpretable baseline model that provides a useful benchmark. It assumes a linear relationship between features and the log-odds of the target, and class_weight='balanced' helps it deal with class imbalance.\n",
        "\n",
        "**LGBMClassifier**\n",
        "* A fast, efficient gradient boosting model that is especially effective on large datasets with many categorical variables. It’s highly tunable and often competitive with XGBoost in structured data problems."
      ],
      "metadata": {
        "id": "grMQJl7la3sM"
      }
    },
    {
      "cell_type": "code",
      "source": [
        "models = {\n",
        "    'RandomForest': RandomForestClassifier(n_estimators=300, random_state=0, class_weight='balanced'),\n",
        "    'GradientBoost': GradientBoostingClassifier(random_state=0),\n",
        "    'XGBoost': XGBClassifier(n_estimators=400, learning_rate=0.05,\n",
        "                             max_depth=4, random_state=0, eval_metric='logloss'),\n",
        "    'LogisticRegression': LogisticRegression(max_iter=1000, class_weight='balanced'),\n",
        "    'LGBMClassifier': LGBMClassifier(n_estimators=400, learning_rate=0.05,\n",
        "                                     max_depth=4, random_state=0, verbose=-1, class_weight='balanced')\n",
        "}"
      ],
      "metadata": {
        "trusted": true,
        "execution": {
          "iopub.status.busy": "2025-06-09T19:51:55.708061Z",
          "iopub.execute_input": "2025-06-09T19:51:55.708331Z",
          "iopub.status.idle": "2025-06-09T19:51:55.720788Z",
          "shell.execute_reply.started": "2025-06-09T19:51:55.708312Z",
          "shell.execute_reply": "2025-06-09T19:51:55.719963Z"
        },
        "id": "KtQBed4ga3sN"
      },
      "outputs": [],
      "execution_count": null
    },
    {
      "cell_type": "markdown",
      "source": [
        "### Why Use Multiple Scoring Metrics Instead of Just Accuracy?\n",
        "In classification tasks—especially when working with imbalanced datasets like the Adult Income dataset—accuracy alone can be misleading. For example, if 75% of people in the dataset make ≤50K, a model that always predicts ≤50K would achieve 75% accuracy while completely failing to identify the >50K group.\n",
        "\n",
        "To better understand model performance, we use a range of evaluation metrics:\n",
        "\n",
        "* **F1 Score**\n",
        "The harmonic mean of precision and recall. Useful when classes are imbalanced and both false positives and false negatives are costly.\n",
        "\n",
        "* **ROC AUC**\n",
        "Measures how well the model separates the two classes across all thresholds. AUC is threshold-independent and gives insight into the model’s general discriminative power.\n",
        "\n",
        "* **Accuracy**\n",
        "Still useful as a general indicator, especially when combined with other metrics, but not sufficient on its own for imbalanced problems.\n",
        "\n",
        "* **Precision**\n",
        "Of the people predicted to make >50K, how many actually do? Important when false positives are costly or undesirable.\n",
        "\n",
        "* **Recall**\n",
        "Of the people who truly make >50K, how many did the model identify? Useful when missing positive cases is a bigger concern."
      ],
      "metadata": {
        "id": "hZrANscRa3sN"
      }
    },
    {
      "cell_type": "code",
      "source": [
        "scoring = {\n",
        "    'f1': 'f1',\n",
        "    'roc_auc': 'roc_auc',\n",
        "    'accuracy': 'accuracy',\n",
        "    'precision': 'precision',\n",
        "    'recall': 'recall'\n",
        "}\n",
        "def print_score(name):\n",
        "  \"\"\"\n",
        "  Prints cross-validated evaluation metrics for a given model.\n",
        "\n",
        "  Args:\n",
        "    name (str): Name of the model to label the output.\n",
        "\n",
        "  Returns:\n",
        "    None. Prints the mean values of F1 score, ROC AUC, accuracy, and recall\n",
        "        from the cross-validation results stored in the global `results` dictionary.\n",
        "\n",
        "  Example:\n",
        "    print_score(\"Random Forest\")\n",
        "    \"\"\"\n",
        "  print(f'*****{name}*****')\n",
        "  print(f\"f1: {results['test_f1'].mean():.3f}\")\n",
        "  print(f\"roc_auc: {results['test_roc_auc'].mean():.3f}\")\n",
        "  print(f\"accuracy: {results['test_accuracy'].mean():.3f}\")\n",
        "  print(f\"recall: {results['test_recall'].mean():.3f}\")"
      ],
      "metadata": {
        "trusted": true,
        "execution": {
          "iopub.status.busy": "2025-06-09T19:51:55.721545Z",
          "iopub.execute_input": "2025-06-09T19:51:55.721754Z",
          "iopub.status.idle": "2025-06-09T19:51:55.737351Z",
          "shell.execute_reply.started": "2025-06-09T19:51:55.721735Z",
          "shell.execute_reply": "2025-06-09T19:51:55.736489Z"
        },
        "id": "BlD9-bDEa3sN"
      },
      "outputs": [],
      "execution_count": null
    },
    {
      "cell_type": "code",
      "source": [
        "fitted_pipes = {}\n",
        "for name, model in models.items():\n",
        "    pipe = make_pipeline(full_pipeline, model)\n",
        "    results = cross_validate(pipe, X, y, cv=5, scoring=scoring)\n",
        "    print_score(name)\n",
        "    fitted_pipes[name] = pipe"
      ],
      "metadata": {
        "trusted": true,
        "execution": {
          "iopub.status.busy": "2025-06-09T19:51:55.738185Z",
          "iopub.execute_input": "2025-06-09T19:51:55.738480Z",
          "iopub.status.idle": "2025-06-09T19:53:17.329586Z",
          "shell.execute_reply.started": "2025-06-09T19:51:55.738456Z",
          "shell.execute_reply": "2025-06-09T19:53:17.328631Z"
        },
        "colab": {
          "base_uri": "https://localhost:8080/"
        },
        "id": "bqTDmH9pa3sN",
        "outputId": "f39fbd4e-cee6-478b-9ec0-e716dc4e9fe1"
      },
      "outputs": [
        {
          "output_type": "stream",
          "name": "stdout",
          "text": [
            "*****RandomForest*****\n",
            "f1: 0.667\n",
            "roc_auc: 0.895\n",
            "accuracy: 0.846\n",
            "recall: 0.640\n",
            "*****GradientBoost*****\n",
            "f1: 0.675\n",
            "roc_auc: 0.918\n",
            "accuracy: 0.862\n",
            "recall: 0.593\n",
            "*****XGBoost*****\n",
            "f1: 0.703\n",
            "roc_auc: 0.926\n",
            "accuracy: 0.870\n",
            "recall: 0.637\n",
            "*****LogisticRegression*****\n",
            "f1: 0.673\n",
            "roc_auc: 0.901\n",
            "accuracy: 0.805\n",
            "recall: 0.834\n",
            "*****LGBMClassifier*****\n",
            "f1: 0.708\n",
            "roc_auc: 0.926\n",
            "accuracy: 0.828\n",
            "recall: 0.865\n"
          ]
        }
      ],
      "execution_count": null
    },
    {
      "cell_type": "markdown",
      "source": [
        "## 🔑 Key Takeaways from Model Comparison\n",
        "We tested five models on the cleaned dataset to predict whether an individual's annual income exceeds $50K. Here are the key insights from the evaluation metrics:\n",
        "\n",
        "1. Best Overall Performance: LGBMClassifier\n",
        "    * F1: 0.708 (highest)\n",
        "    * ROC AUC: 0.926 (tied with XGBoost)\n",
        "    * Recall: 0.865 (highest)\n",
        "\n",
        "LightGBM delivered the best balance across precision and recall, making it the strongest candidate when both false positives and false negatives matter.\n",
        "\n",
        "2. Strong Contender: XGBoost\n",
        "    * F1: 0.703\n",
        "    * ROC AUC: 0.926 (tied for best)\n",
        "    * Accuracy: 0.870 (highest)\n",
        "\n",
        "XGBoost maintained strong performance across the board, especially in ranking ability (ROC AUC) and overall accuracy.\n",
        "\n",
        "3. High Recall: LogisticRegression\n",
        "    * Recall: 0.834\n",
        "\n",
        "When class weight was set to 'balanced', Logistic Regression showed the strongest performance on identifying positives, which is useful when the cost of missing a high-income individual is high.\n",
        "\n",
        "4. Ensemble Methods Hold Up Well\n",
        "    * Both RandomForest and GradientBoosting performed solidly:\n",
        "    * Random Forest had a decent recall (0.640) and balanced F1 (0.667).\n",
        "    * Gradient Boosting trailed slightly in recall but had competitive ROC AUC.\n",
        "\n",
        "| Model              | F1    | ROC AUC | Accuracy | Recall |\n",
        "| ------------------ | ----- | ------- | -------- | ------ |\n",
        "| **LGBMClassifier** | 0.708 | 0.926   | 0.828    | 0.865  |\n",
        "| XGBoost            | 0.703 | 0.926   | 0.870    | 0.637  |\n",
        "| GradientBoost      | 0.675 | 0.918   | 0.862    | 0.593  |\n",
        "| LogisticRegression | 0.674 | 0.901   | 0.805    | 0.834  |\n",
        "| RandomForest       | 0.667 | 0.895   | 0.846    | 0.640  |\n"
      ],
      "metadata": {
        "id": "e8nHYKaUa3sO"
      }
    },
    {
      "cell_type": "markdown",
      "source": [
        "## Top Features\n",
        "We will look at the top features for both XGBoost and LogisticRegression.\n",
        "Then create a new pipline with those features to test if they yeild better results with less features"
      ],
      "metadata": {
        "id": "eH7feqs9a3sO"
      }
    },
    {
      "cell_type": "code",
      "source": [
        "pipe = fitted_pipes['XGBoost'].fit(X, y)\n",
        "\n",
        "# Get the trained XGBoost model (last step in your pipeline)\n",
        "xgb_model = pipe.named_steps['xgbclassifier']\n",
        "\n",
        "\n",
        "# Get the ColumnTransformer from inside the full_pipeline\n",
        "column_transformer = pipe.named_steps['pipeline'].named_steps['preprocessor']\n",
        "\n",
        "# Get the feature names\n",
        "feature_names = column_transformer.get_feature_names_out()\n",
        "\n",
        "# Pair with importances\n",
        "importances = pd.Series(xgb_model.feature_importances_, index=feature_names)\n",
        "\n",
        "# Sort and view\n",
        "importances.sort_values(ascending=False).head(15)\n"
      ],
      "metadata": {
        "trusted": true,
        "execution": {
          "iopub.status.busy": "2025-06-09T19:53:17.332634Z",
          "iopub.execute_input": "2025-06-09T19:53:17.332989Z",
          "iopub.status.idle": "2025-06-09T19:53:18.423220Z",
          "shell.execute_reply.started": "2025-06-09T19:53:17.332959Z",
          "shell.execute_reply": "2025-06-09T19:53:18.422506Z"
        },
        "colab": {
          "base_uri": "https://localhost:8080/",
          "height": 554
        },
        "id": "bD2uuIOYa3sO",
        "outputId": "0f68a1a4-7f7a-4b58-b0a6-5cd282b23c5d"
      },
      "outputs": [
        {
          "output_type": "execute_result",
          "data": {
            "text/plain": [
              "cat__marital_status_Married          0.432862\n",
              "num__education_num                   0.084621\n",
              "num__capital_gain                    0.068043\n",
              "cat__occupation_Exec-managerial      0.056568\n",
              "cat__occupation_Other-service        0.045998\n",
              "num__capital_loss                    0.030817\n",
              "num__age                             0.027222\n",
              "cat__occupation_Farming-fishing      0.025188\n",
              "cat__occupation_Tech-support         0.022689\n",
              "num__hours_per_week                  0.021698\n",
              "cat__sex_Female                      0.014883\n",
              "cat__marital_status_Not-Married      0.014037\n",
              "cat__occupation_Handlers-cleaners    0.013727\n",
              "cat__workclass_Federal-gov           0.013018\n",
              "cat__occupation_Machine-op-inspct    0.011328\n",
              "dtype: float32"
            ],
            "text/html": [
              "<div>\n",
              "<style scoped>\n",
              "    .dataframe tbody tr th:only-of-type {\n",
              "        vertical-align: middle;\n",
              "    }\n",
              "\n",
              "    .dataframe tbody tr th {\n",
              "        vertical-align: top;\n",
              "    }\n",
              "\n",
              "    .dataframe thead th {\n",
              "        text-align: right;\n",
              "    }\n",
              "</style>\n",
              "<table border=\"1\" class=\"dataframe\">\n",
              "  <thead>\n",
              "    <tr style=\"text-align: right;\">\n",
              "      <th></th>\n",
              "      <th>0</th>\n",
              "    </tr>\n",
              "  </thead>\n",
              "  <tbody>\n",
              "    <tr>\n",
              "      <th>cat__marital_status_Married</th>\n",
              "      <td>0.432862</td>\n",
              "    </tr>\n",
              "    <tr>\n",
              "      <th>num__education_num</th>\n",
              "      <td>0.084621</td>\n",
              "    </tr>\n",
              "    <tr>\n",
              "      <th>num__capital_gain</th>\n",
              "      <td>0.068043</td>\n",
              "    </tr>\n",
              "    <tr>\n",
              "      <th>cat__occupation_Exec-managerial</th>\n",
              "      <td>0.056568</td>\n",
              "    </tr>\n",
              "    <tr>\n",
              "      <th>cat__occupation_Other-service</th>\n",
              "      <td>0.045998</td>\n",
              "    </tr>\n",
              "    <tr>\n",
              "      <th>num__capital_loss</th>\n",
              "      <td>0.030817</td>\n",
              "    </tr>\n",
              "    <tr>\n",
              "      <th>num__age</th>\n",
              "      <td>0.027222</td>\n",
              "    </tr>\n",
              "    <tr>\n",
              "      <th>cat__occupation_Farming-fishing</th>\n",
              "      <td>0.025188</td>\n",
              "    </tr>\n",
              "    <tr>\n",
              "      <th>cat__occupation_Tech-support</th>\n",
              "      <td>0.022689</td>\n",
              "    </tr>\n",
              "    <tr>\n",
              "      <th>num__hours_per_week</th>\n",
              "      <td>0.021698</td>\n",
              "    </tr>\n",
              "    <tr>\n",
              "      <th>cat__sex_Female</th>\n",
              "      <td>0.014883</td>\n",
              "    </tr>\n",
              "    <tr>\n",
              "      <th>cat__marital_status_Not-Married</th>\n",
              "      <td>0.014037</td>\n",
              "    </tr>\n",
              "    <tr>\n",
              "      <th>cat__occupation_Handlers-cleaners</th>\n",
              "      <td>0.013727</td>\n",
              "    </tr>\n",
              "    <tr>\n",
              "      <th>cat__workclass_Federal-gov</th>\n",
              "      <td>0.013018</td>\n",
              "    </tr>\n",
              "    <tr>\n",
              "      <th>cat__occupation_Machine-op-inspct</th>\n",
              "      <td>0.011328</td>\n",
              "    </tr>\n",
              "  </tbody>\n",
              "</table>\n",
              "</div><br><label><b>dtype:</b> float32</label>"
            ]
          },
          "metadata": {},
          "execution_count": 10
        }
      ],
      "execution_count": null
    },
    {
      "cell_type": "markdown",
      "source": [
        "### Update the pipeline with the top features only"
      ],
      "metadata": {
        "id": "iFd-_5UGa3sP"
      }
    },
    {
      "cell_type": "code",
      "source": [
        "preprocessor = ColumnTransformer([\n",
        "  ('cat',cat_preprocessor,['marital_status','occupation', 'sex' ,'workclass']),\n",
        "  ('num', numeric_preprocessor, ['age','education_num','capital_gain','capital_loss','hours_per_week',])\n",
        "])\n",
        "\n",
        "XGBpipe = make_pipeline(preprocessor, XGBClassifier(n_estimators=400, learning_rate=0.05,\n",
        "                          max_depth=4, random_state=0, eval_metric='logloss'))"
      ],
      "metadata": {
        "trusted": true,
        "execution": {
          "iopub.status.busy": "2025-06-09T19:53:18.423880Z",
          "iopub.execute_input": "2025-06-09T19:53:18.424085Z",
          "iopub.status.idle": "2025-06-09T19:53:18.429114Z",
          "shell.execute_reply.started": "2025-06-09T19:53:18.424068Z",
          "shell.execute_reply": "2025-06-09T19:53:18.428244Z"
        },
        "id": "sohNfyY7a3sP"
      },
      "outputs": [],
      "execution_count": null
    },
    {
      "cell_type": "markdown",
      "source": [
        "### Results of XGBoost with top features"
      ],
      "metadata": {
        "id": "r6wAumfdiHgz"
      }
    },
    {
      "cell_type": "code",
      "source": [
        "results = cross_validate(XGBpipe, X, y, cv=5, scoring=scoring)\n",
        "print(\"XGBoost top params test\")\n",
        "print_score(\"XGBoost\")"
      ],
      "metadata": {
        "trusted": true,
        "execution": {
          "iopub.status.busy": "2025-06-09T19:53:18.429892Z",
          "iopub.execute_input": "2025-06-09T19:53:18.430124Z",
          "iopub.status.idle": "2025-06-09T19:53:22.656762Z",
          "shell.execute_reply.started": "2025-06-09T19:53:18.430105Z",
          "shell.execute_reply": "2025-06-09T19:53:22.655880Z"
        },
        "colab": {
          "base_uri": "https://localhost:8080/"
        },
        "id": "Qs1uXlDIa3sP",
        "outputId": "d151fc09-4921-4038-e7bc-261026e2ad85"
      },
      "outputs": [
        {
          "output_type": "stream",
          "name": "stdout",
          "text": [
            "XGBoost top params test\n",
            "*****XGBoost*****\n",
            "f1: 0.702\n",
            "roc_auc: 0.925\n",
            "accuracy: 0.870\n",
            "recall: 0.636\n"
          ]
        }
      ],
      "execution_count": null
    },
    {
      "cell_type": "markdown",
      "source": [
        "### Why It Got Worse\n",
        "- We dropped useful “supporting” features\n",
        "Even features with small importances can help models make better splits or generalizations in combination with others.\n",
        "\n",
        "- Feature importance isn’t always absolute\n",
        "Tree models like XGBoost measure importance based on gain or frequency, which doesn’t always capture interaction effects. A “low-ranked” feature might still be key in certain splits.\n",
        "\n",
        "- We probably reduced model complexity too much\n",
        "XGBoost thrives on a rich feature space — pruning too aggressively can underfit the data."
      ],
      "metadata": {
        "id": "OmkQr5qZa3sP"
      }
    },
    {
      "cell_type": "markdown",
      "source": [
        "### Check for top features for LogReg"
      ],
      "metadata": {
        "id": "0LKefOola3sP"
      }
    },
    {
      "cell_type": "code",
      "source": [
        "pipe = fitted_pipes['LogisticRegression'].fit(X, y)\n",
        "\n",
        "# Get the trained XGBoost model (last step in your pipeline)\n",
        "log_reg = pipe.named_steps['logisticregression']\n",
        "\n",
        "\n",
        "# Get the ColumnTransformer from inside the full_pipeline\n",
        "column_transformer = pipe.named_steps['pipeline'].named_steps['preprocessor']\n",
        "\n",
        "# Get the feature names\n",
        "feature_names = column_transformer.get_feature_names_out()\n",
        "\n",
        "# Pair each feature name with its coefficient\n",
        "coefficients = pd.Series(log_reg.coef_[0], index=feature_names)\n",
        "\n",
        "# Sort by importance\n",
        "coefficients.abs().sort_values(ascending=False).head(15)"
      ],
      "metadata": {
        "trusted": true,
        "execution": {
          "iopub.status.busy": "2025-06-09T19:53:22.657505Z",
          "iopub.execute_input": "2025-06-09T19:53:22.657713Z",
          "iopub.status.idle": "2025-06-09T19:53:23.940418Z",
          "shell.execute_reply.started": "2025-06-09T19:53:22.657696Z",
          "shell.execute_reply": "2025-06-09T19:53:23.939683Z"
        },
        "colab": {
          "base_uri": "https://localhost:8080/",
          "height": 554
        },
        "id": "SO0KQ_Eca3sQ",
        "outputId": "85847caf-231f-4f26-9bcc-58ddad8bda8b"
      },
      "outputs": [
        {
          "output_type": "execute_result",
          "data": {
            "text/plain": [
              "cat__occupation_Other                     2.052671\n",
              "cat__marital_status_Married               1.401318\n",
              "cat__marital_status_Not-Married           1.249569\n",
              "num__capital_gain                         1.183450\n",
              "num__net_capital                          1.161815\n",
              "cat__occupation_Farming-fishing           1.090543\n",
              "cat__occupation_Exec-managerial           0.920463\n",
              "cat__workclass_Without-pay                0.854072\n",
              "num__education_num                        0.797351\n",
              "cat__marital_status_Previously-Married    0.750407\n",
              "cat__occupation_Tech-support              0.741376\n",
              "cat__occupation_Protective-serv           0.729212\n",
              "cat__occupation_Other-service             0.592570\n",
              "cat__workclass_Federal-gov                0.585128\n",
              "cat__occupation_Handlers-cleaners         0.520154\n",
              "dtype: float64"
            ],
            "text/html": [
              "<div>\n",
              "<style scoped>\n",
              "    .dataframe tbody tr th:only-of-type {\n",
              "        vertical-align: middle;\n",
              "    }\n",
              "\n",
              "    .dataframe tbody tr th {\n",
              "        vertical-align: top;\n",
              "    }\n",
              "\n",
              "    .dataframe thead th {\n",
              "        text-align: right;\n",
              "    }\n",
              "</style>\n",
              "<table border=\"1\" class=\"dataframe\">\n",
              "  <thead>\n",
              "    <tr style=\"text-align: right;\">\n",
              "      <th></th>\n",
              "      <th>0</th>\n",
              "    </tr>\n",
              "  </thead>\n",
              "  <tbody>\n",
              "    <tr>\n",
              "      <th>cat__occupation_Other</th>\n",
              "      <td>2.052671</td>\n",
              "    </tr>\n",
              "    <tr>\n",
              "      <th>cat__marital_status_Married</th>\n",
              "      <td>1.401318</td>\n",
              "    </tr>\n",
              "    <tr>\n",
              "      <th>cat__marital_status_Not-Married</th>\n",
              "      <td>1.249569</td>\n",
              "    </tr>\n",
              "    <tr>\n",
              "      <th>num__capital_gain</th>\n",
              "      <td>1.183450</td>\n",
              "    </tr>\n",
              "    <tr>\n",
              "      <th>num__net_capital</th>\n",
              "      <td>1.161815</td>\n",
              "    </tr>\n",
              "    <tr>\n",
              "      <th>cat__occupation_Farming-fishing</th>\n",
              "      <td>1.090543</td>\n",
              "    </tr>\n",
              "    <tr>\n",
              "      <th>cat__occupation_Exec-managerial</th>\n",
              "      <td>0.920463</td>\n",
              "    </tr>\n",
              "    <tr>\n",
              "      <th>cat__workclass_Without-pay</th>\n",
              "      <td>0.854072</td>\n",
              "    </tr>\n",
              "    <tr>\n",
              "      <th>num__education_num</th>\n",
              "      <td>0.797351</td>\n",
              "    </tr>\n",
              "    <tr>\n",
              "      <th>cat__marital_status_Previously-Married</th>\n",
              "      <td>0.750407</td>\n",
              "    </tr>\n",
              "    <tr>\n",
              "      <th>cat__occupation_Tech-support</th>\n",
              "      <td>0.741376</td>\n",
              "    </tr>\n",
              "    <tr>\n",
              "      <th>cat__occupation_Protective-serv</th>\n",
              "      <td>0.729212</td>\n",
              "    </tr>\n",
              "    <tr>\n",
              "      <th>cat__occupation_Other-service</th>\n",
              "      <td>0.592570</td>\n",
              "    </tr>\n",
              "    <tr>\n",
              "      <th>cat__workclass_Federal-gov</th>\n",
              "      <td>0.585128</td>\n",
              "    </tr>\n",
              "    <tr>\n",
              "      <th>cat__occupation_Handlers-cleaners</th>\n",
              "      <td>0.520154</td>\n",
              "    </tr>\n",
              "  </tbody>\n",
              "</table>\n",
              "</div><br><label><b>dtype:</b> float64</label>"
            ]
          },
          "metadata": {},
          "execution_count": 13
        }
      ],
      "execution_count": null
    },
    {
      "cell_type": "markdown",
      "source": [
        "### Results of Logistic Regression top features"
      ],
      "metadata": {
        "id": "SSVmjRDziQvj"
      }
    },
    {
      "cell_type": "code",
      "source": [
        "preprocessor = ColumnTransformer([\n",
        "    ('cat',cat_preprocessor,['workclass','marital_status','occupation']),\n",
        "    ('num', numeric_preprocessor, ['education_num','capital_gain','net_capital'])\n",
        "])\n",
        "full_pipeline = Pipeline(steps=[\n",
        "    ('add_net_capital', NetCapitalAdder()),   # Custom transformer goes here\n",
        "    ('preprocessor', preprocessor)            # Then column-specific transformations\n",
        "])\n",
        "\n",
        "log_pipe = make_pipeline(full_pipeline, LogisticRegression(max_iter=1000, class_weight='balanced'))\n",
        "results = cross_validate(log_pipe, X, y, cv=5, scoring=scoring)\n",
        "print(\"Logistic Regression top params test\")\n",
        "print_score(\"Logistic Regression\")"
      ],
      "metadata": {
        "trusted": true,
        "execution": {
          "iopub.status.busy": "2025-06-09T19:53:23.941170Z",
          "iopub.execute_input": "2025-06-09T19:53:23.941432Z",
          "iopub.status.idle": "2025-06-09T19:53:26.439812Z",
          "shell.execute_reply.started": "2025-06-09T19:53:23.941411Z",
          "shell.execute_reply": "2025-06-09T19:53:26.438986Z"
        },
        "colab": {
          "base_uri": "https://localhost:8080/"
        },
        "id": "x18bkw0Ba3sQ",
        "outputId": "5c43ffa4-7f96-4cff-d0aa-5693ec04e8c4"
      },
      "outputs": [
        {
          "output_type": "stream",
          "name": "stdout",
          "text": [
            "Logistic Regression top params test\n",
            "*****Logistic Regression*****\n",
            "f1: 0.654\n",
            "roc_auc: 0.892\n",
            "accuracy: 0.784\n",
            "recall: 0.845\n"
          ]
        }
      ],
      "execution_count": null
    },
    {
      "cell_type": "markdown",
      "source": [
        "### 📌 Interpretation:\n",
        "\n",
        "| Metric       | Score |\n",
        "| ------------ | ----- |\n",
        "| **F1**       | 0.654 |\n",
        "| **ROC AUC**  | 0.892 |\n",
        "| **Accuracy** | 0.784 |\n",
        "| **Recall**   | 0.845 |\n",
        "\n",
        "* High recall (0.845) indicates this model is catching more of the positive (>$50K) cases, which is expected when using class_weight='balanced'.\n",
        "\n",
        "* Lower F1 and accuracy show a trade-off: the model likely has more false positives (predicting income >$50K when it's not).\n",
        "\n",
        "* Slight dip in ROC AUC suggests it’s slightly worse at ranking positive vs negative cases than the full-feature model.\n",
        "\n",
        "* The drop in performance (vs full model) is likely due to:\n",
        "\n",
        "* educed feature space, which means less information for the model to distinguish between classes.\n",
        "\n",
        "* Possibly dropping features that were helping with precision or generalization.\n",
        "\n",
        "💡 Conclusion:\n",
        "This pared-down model prioritizes recall and simplicity, which may be useful in business contexts where missing a high-income individual is more costly than flagging a few extra. However, for a more balanced model, a richer feature set may be necessary."
      ],
      "metadata": {
        "id": "KHFLQs_Ha3sQ"
      }
    },
    {
      "cell_type": "markdown",
      "source": [
        "# Hyperparams\n",
        "To further improve our LGBM model, we used `GridSearchCV` to perform an exhaustive serach over a range of hyperparameters. This process helps identify the best combinaiton of settings that maximazie the model performance based on cross-validaiton."
      ],
      "metadata": {
        "id": "4DU5xVmja3sQ"
      }
    },
    {
      "cell_type": "code",
      "source": [
        "from sklearn.model_selection import GridSearchCV\n",
        "from lightgbm import LGBMClassifier # Ensure LGBMClassifier is imported\n",
        "from sklearn.pipeline import Pipeline # Import Pipeline\n",
        "\n",
        "# Re-define the full_pipeline, including NetCapitalAdder and the ColumnTransformer\n",
        "# This is needed because the GridSearchCV will apply the pipeline internally.\n",
        "numeric_preprocessor = Pipeline(\n",
        "  steps = [(\"scaler\", StandardScaler())]\n",
        ")\n",
        "\n",
        "cat_preprocessor = Pipeline(\n",
        "  steps =[('onehot', OneHotEncoder(handle_unknown='ignore'))]\n",
        ")\n",
        "\n",
        "# Use all of the categories from the clean data set\n",
        "categorical_features = ['workclass','marital_status','occupation','race','sex','native_country']\n",
        "numerical_features = ['age','education_num','capital_gain','capital_loss','hours_per_week','net_capital'] # 'net_capital' is added by the custom transformer\n",
        "\n",
        "preprocessor = ColumnTransformer([\n",
        "    ('cat', cat_preprocessor, categorical_features),\n",
        "    ('num', numeric_preprocessor, numerical_features)\n",
        "])\n",
        "\n",
        "full_pipeline = Pipeline(steps=[\n",
        "    ('add_net_capital', NetCapitalAdder()),   # Custom transformer\n",
        "    ('preprocessor', preprocessor)            # Column-specific transformations\n",
        "])\n",
        "\n",
        "\n",
        "# Define the LGBM model\n",
        "lgbm = LGBMClassifier(\n",
        "    random_state=0,\n",
        "    verbose=-1, # suppress info logs\n",
        "    class_weight='balanced' #used for the imbalanced dataset\n",
        ")\n",
        "\n",
        "# Wrap the full_pipeline and LGBM model in a single pipeline for GridSearchCV\n",
        "# The parameter grid now needs to reference the LGBM model using its name in the pipeline\n",
        "#Let's explicitly name it 'model'\n",
        "pipeline_for_gridsearch = Pipeline([\n",
        "    ('preprocessing', full_pipeline), # Apply the full preprocessing pipeline\n",
        "    ('model', lgbm)                  # Apply the LGBM model\n",
        "])\n",
        "\n",
        "\n",
        "# Update the param_grid to match the named steps in the new pipeline\n",
        "param_grid = {\n",
        "    'model__n_estimators': [300, 500, 800], # Parameters for the 'model' step\n",
        "    'model__learning_rate': [0.03, 0.05, 0.1],\n",
        "    'model__max_depth': [-1, 3, 5],\n",
        "    'model__num_leaves': [15, 31, 63]\n",
        "}\n",
        "\n",
        "\n",
        "search = GridSearchCV(\n",
        "    estimator=pipeline_for_gridsearch, # Use the new pipeline as the estimator\n",
        "    param_grid=param_grid,\n",
        "    cv=3,                # 3‑fold cross‑validation for testing\n",
        "    scoring=scoring,\n",
        "    refit='recall',\n",
        "    n_jobs=-1            # use all CPU cores\n",
        ")\n",
        "\n",
        "# Fit the GridSearchCV on the raw data X and y; the pipeline handles preprocessing internally\n",
        "search.fit(X, y)\n",
        "\n",
        "print(\"Best recall score :\", search.best_score_)\n",
        "print(\"Best params   :\", search.best_params_)"
      ],
      "metadata": {
        "trusted": true,
        "colab": {
          "base_uri": "https://localhost:8080/"
        },
        "id": "amib04aDa3sQ",
        "outputId": "ce4dd689-1f66-41b1-8d80-b79f8e7a9997"
      },
      "outputs": [
        {
          "output_type": "stream",
          "name": "stdout",
          "text": [
            "Best recall score : 0.8700089297104222\n",
            "Best params   : {'model__learning_rate': 0.03, 'model__max_depth': 5, 'model__n_estimators': 300, 'model__num_leaves': 31}\n"
          ]
        }
      ],
      "execution_count": null
    },
    {
      "cell_type": "markdown",
      "source": [
        "After performing GridSearchCV to tune hyperparameters, the best-performing model was selected using a LightGBM Classifier. The final model is wrapped in a pipeline to ensure all preprocessing steps are applied consistently during both training and prediction.\n",
        "\n",
        "**Why LightGBM?**\n",
        "\n",
        "* Outperformed other models during cross-validation.\n",
        "\n",
        "* Handles mixed data types and large datasets efficiently.\n",
        "\n",
        "* Offers fine-grained control over regularization and tree complexity.\n",
        "\n",
        "* The class_weight='balanced' setting helps address the dataset's income class imbalance.\n",
        "\n",
        "This pipeline ensures all preprocessing `(encoding, scaling, etc.)` is applied before training the model, making it production-ready and preventing data leakage."
      ],
      "metadata": {
        "id": "Sg-OzdSwjRes"
      }
    },
    {
      "cell_type": "code",
      "source": [
        "best_model = make_pipeline(full_pipeline, LGBMClassifier(\n",
        "    random_state=0,\n",
        "    verbose=-1,\n",
        "    n_estimators=300,\n",
        "    learning_rate=0.03,\n",
        "    max_depth=5,\n",
        "    num_leaves=31,\n",
        "    class_weight='balanced'\n",
        "))"
      ],
      "metadata": {
        "id": "3nYB7Mj7gJzs"
      },
      "execution_count": null,
      "outputs": []
    },
    {
      "cell_type": "markdown",
      "source": [
        "### Results of the LGBM with the best params"
      ],
      "metadata": {
        "id": "rjo_c9Yei6Xg"
      }
    },
    {
      "cell_type": "code",
      "source": [
        "results = cross_validate(best_model, X, y, cv=3, scoring=scoring)\n",
        "print_score(\"best Model\")"
      ],
      "metadata": {
        "colab": {
          "base_uri": "https://localhost:8080/"
        },
        "id": "6lGfNFJ6n2kX",
        "outputId": "3746c05f-1b80-4cf1-cb4b-6ad1ea99be59"
      },
      "execution_count": null,
      "outputs": [
        {
          "output_type": "stream",
          "name": "stdout",
          "text": [
            "*****best Model*****\n",
            "f1: 0.707\n",
            "roc_auc: 0.924\n",
            "accuracy: 0.826\n",
            "recall: 0.870\n"
          ]
        }
      ]
    },
    {
      "cell_type": "markdown",
      "source": [
        "## Final Evaluation on Train and Test Sets\n",
        "After fitting the final LightGBM pipeline on the full training data, the model was evaluated on both the training and original test set (adult.test) from the UCI dataset.\n",
        "\n",
        "This step provides a side-by-side comparison of the model’s performance on the training set and the true holdout test set. Key metrics such as precision, recall, and F1 score help verify that the model generalizes well and is not overfitting."
      ],
      "metadata": {
        "id": "angdDz6vjxAa"
      }
    },
    {
      "cell_type": "code",
      "source": [
        "\n",
        "from sklearn.metrics import classification_report\n",
        "test = pd.read_csv(file_path2)\n",
        "y_test = test.pop('income')\n",
        "\n",
        "y_test = y_test.map({'<=50K':0,'>50K':1})\n",
        "\n",
        "y_pred2 = best_model.predict(X)\n",
        "y_pred = best_model.predict(test)\n",
        "\n",
        "\n",
        "print(\"Classification Report of Training Data\")\n",
        "print(classification_report(y, y_pred2))\n",
        "print(\"Classification Report of Test Data\")\n",
        "print(classification_report(y_test, y_pred))"
      ],
      "metadata": {
        "colab": {
          "base_uri": "https://localhost:8080/"
        },
        "id": "pt8Lh27ZF29h",
        "outputId": "a7f25310-36a0-4bf7-d1bc-f471abbc805d"
      },
      "execution_count": null,
      "outputs": [
        {
          "output_type": "stream",
          "name": "stdout",
          "text": [
            "Classification Report of Training Data\n",
            "              precision    recall  f1-score   support\n",
            "\n",
            "           0       0.95      0.80      0.87     24698\n",
            "           1       0.58      0.87      0.70      7839\n",
            "\n",
            "    accuracy                           0.82     32537\n",
            "   macro avg       0.77      0.84      0.79     32537\n",
            "weighted avg       0.86      0.82      0.83     32537\n",
            "\n",
            "Classification Report of Test Data\n",
            "              precision    recall  f1-score   support\n",
            "\n",
            "           0       0.96      0.81      0.88     12430\n",
            "           1       0.59      0.90      0.71      3846\n",
            "\n",
            "    accuracy                           0.83     16276\n",
            "   macro avg       0.78      0.85      0.80     16276\n",
            "weighted avg       0.87      0.83      0.84     16276\n",
            "\n"
          ]
        }
      ]
    },
    {
      "cell_type": "markdown",
      "source": [
        "### Interpretation\n",
        "The model performs consistently across both training and test data, with no major signs of overfitting.\n",
        "\n",
        "* Accuracy holds steady at ~82–83%, which is solid given the complexity of the task.\n",
        "\n",
        "* The model achieves high recall on the >50K class (~87–90%), meaning it successfully captures most high-income individuals.\n",
        "\n",
        "* Precision for >50K is lower (~58–59%), indicating some false positives. This is a common tradeoff with imbalanced data.\n",
        "\n",
        "* Overall, the model generalizes well and balances performance across both classes."
      ],
      "metadata": {
        "id": "benS6PsBkBz2"
      }
    },
    {
      "cell_type": "markdown",
      "source": [
        "## Why Use a Confusion Matrix?\n",
        "A confusion matrix provides a detailed breakdown of the classification results beyond simple accuracy. It shows how many instances were correctly or incorrectly classified for each class:\n",
        "\n",
        "* True Positives (TP): Correctly predicted >50K income\n",
        "\n",
        "* True Negatives (TN): Correctly predicted ≤50K income\n",
        "\n",
        "* False Positives (FP): Predicted >50K but actually ≤50K\n",
        "\n",
        "* False Negatives (FN): Predicted ≤50K but actually >50K\n",
        "\n",
        "This breakdown helps us:\n",
        "\n",
        "* Understand the types of errors the model is making.\n",
        "\n",
        "* Evaluate the tradeoff between precision and recall visually.\n",
        "\n",
        "* Identify if the model tends to over-predict one class or miss instances of the other.\n",
        "\n",
        "The following function plots the confusion matrix as a heatmap with labeled axes and class names for clear interpretation:"
      ],
      "metadata": {
        "id": "jgT4ipVfkWSX"
      }
    },
    {
      "cell_type": "code",
      "source": [
        "from sklearn.metrics import confusion_matrix\n",
        "import seaborn as sns\n",
        "import matplotlib.pyplot as plt\n",
        "\n",
        "def plot_confusion_matrix(y_true, y_pred, title):\n",
        "  \"\"\"\n",
        "    Plots a confusion matrix with labeled axes and class names.\n",
        "\n",
        "    Args:\n",
        "        y_true (array-like): True class labels.\n",
        "        y_pred (array-like): Predicted class labels.\n",
        "        title (str): Title for the plot.\n",
        "\n",
        "    Returns:\n",
        "        None. Displays a heatmap of the confusion matrix using seaborn and matplotlib.\n",
        "\n",
        "    Example:\n",
        "        plot_confusion_matrix(y_test, y_pred, title=\"Confusion Matrix: Income Prediction\")\n",
        "    \"\"\"\n",
        "  cm = confusion_matrix(y_true, y_pred)\n",
        "  ax =plt.subplot()\n",
        "  sns.heatmap(cm, annot=True, fmt='g', ax=ax)\n",
        "  ax.set_xlabel('Predicted labels')\n",
        "  ax.set_ylabel('True labels')\n",
        "  ax.set_title(title)\n",
        "  ax.xaxis.set_ticklabels(['<=50K', '>50K'])\n",
        "  ax.yaxis.set_ticklabels(['<=50K', '>50K'])"
      ],
      "metadata": {
        "id": "VT-ZpOM3QDXe"
      },
      "execution_count": null,
      "outputs": []
    },
    {
      "cell_type": "code",
      "source": [
        "plot_confusion_matrix(y_test, y_pred, 'Confusion Matrix of Test Data')"
      ],
      "metadata": {
        "colab": {
          "base_uri": "https://localhost:8080/",
          "height": 472
        },
        "id": "FcPFA1CyRNKU",
        "outputId": "88e62eef-fbab-4154-968c-ca59da74e41d"
      },
      "execution_count": null,
      "outputs": [
        {
          "output_type": "display_data",
          "data": {
            "text/plain": [
              "<Figure size 640x480 with 2 Axes>"
            ],
            "image/png": "[encoded data removed]"
          },
          "metadata": {}
        }
      ]
    },
    {
      "cell_type": "markdown",
      "source": [
        "# Project Summary\n",
        "This project focused on predicting whether an individual’s annual income exceeds $50,000 based on census data from the UCI Adult dataset. The goal was to build a reliable classification model that can accurately distinguish income brackets using a mix of demographic and employment-related features.\n",
        "\n",
        "Data cleaning involved addressing missing values marked with '?' and engineering a new feature, net capital gain/loss, which was incorporated into a preprocessing pipeline to enhance model input. The dataset showed moderate class imbalance, which was effectively managed by applying the class_weight='balanced' parameter in the models, avoiding the need for synthetic oversampling techniques like SMOTE.\n",
        "\n",
        "Several models were evaluated, including Random Forest, Gradient Boosting, XGBoost, Logistic Regression, and LightGBM. While Logistic Regression and XGBoost provided valuable insights into feature importance, LightGBM outperformed others in terms of predictive accuracy and overall balance between precision and recall. The final model pipeline combined thorough preprocessing with tuned hyperparameters for LightGBM, resulting in strong generalization on both training and test sets.\n",
        "\n",
        "Overall, this project demonstrated effective data preparation, model comparison, and evaluation strategies on a real-world dataset, culminating in a robust income prediction model suitable for further deployment or analysis."
      ],
      "metadata": {
        "id": "3TaHehc7nioz"
      }
    }
  ]
}
